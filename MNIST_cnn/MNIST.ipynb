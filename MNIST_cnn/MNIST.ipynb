{
 "cells": [
  {
   "cell_type": "code",
   "execution_count": 1,
   "id": "1ca58da0-75dc-4c21-b041-662facf6d84d",
   "metadata": {},
   "outputs": [],
   "source": [
    "import numpy as np \n",
    "import tensorflow as tf\n",
    "import tensorflow_datasets as tfds\n",
    "import matplotlib.pyplot as plt \n",
    "import PIL "
   ]
  },
  {
   "cell_type": "code",
   "execution_count": 2,
   "id": "e8172d2e-6a59-4726-9ce6-c986cd92b215",
   "metadata": {},
   "outputs": [],
   "source": [
    "from tensorflow import  keras \n",
    "from tensorflow.keras import layers \n",
    "from tensorflow.keras.models import Sequential"
   ]
  },
  {
   "cell_type": "markdown",
   "id": "06385552-2fe0-46bc-a460-c7ccdf7904e2",
   "metadata": {},
   "source": [
    "# Visualizing MNIST dataset "
   ]
  },
  {
   "cell_type": "code",
   "execution_count": 3,
   "id": "a816203f-084f-4493-87f8-11796a7802d8",
   "metadata": {},
   "outputs": [
    {
     "data": {
      "image/png": "[encoded data removed]",
      "text/plain": [
       "<Figure size 720x720 with 9 Axes>"
      ]
     },
     "metadata": {},
     "output_type": "display_data"
    }
   ],
   "source": [
    "mnist = tf.keras.datasets.mnist\n",
    "\n",
    "(x_train, y_train), (x_test, y_test) = mnist.load_data()\n",
    "x_train, x_test = x_train / 255.0, x_test / 255.0\n",
    "\n",
    "\n",
    "# defining classes \n",
    "class_names= np.arange(0, 10)\n",
    "\n",
    "\n",
    "plt.figure(figsize=(10, 10))\n",
    "for i in range(9): \n",
    "    plt.subplot(3, 3, i+1)\n",
    "    plt.imshow(x_train[i], cmap=plt.cm.binary)\n",
    "    plt.xlabel(f'Label: {class_names[y_train [i]]}', c= 'r', fontsize=15)\n",
    "    plt.xticks([])\n",
    "    plt.yticks([])\n"
   ]
  },
  {
   "cell_type": "markdown",
   "id": "24751842-b7ea-4df2-b8d9-bdd27d223d7d",
   "metadata": {},
   "source": [
    "# Load official dataset "
   ]
  },
  {
   "cell_type": "code",
   "execution_count": 4,
   "id": "5255549a-ac66-4a30-a275-4f43cec56500",
   "metadata": {},
   "outputs": [],
   "source": [
    "mnist_dataset, mnist_info= tfds.load(name= 'mnist', with_info=True,as_supervised=True) "
   ]
  },
  {
   "cell_type": "code",
   "execution_count": 5,
   "id": "9a1023da-8631-4252-b141-e2e807361afa",
   "metadata": {},
   "outputs": [],
   "source": [
    "mnist_train, mnist_test= mnist_dataset['train'], mnist_dataset['test']   # extract train and test dataset \n"
   ]
  },
  {
   "cell_type": "code",
   "execution_count": 6,
   "id": "5aeedf59-4321-4320-99b9-cf93d7b9b8b1",
   "metadata": {},
   "outputs": [],
   "source": [
    "\n",
    "# number of validation samples \n",
    "num_validation_samples= 0.1 * mnist_info.splits['train'].num_examples     # size of validation dataset                                                                  \n",
    "num_validation_samples= tf.cast(num_validation_samples, tf.int64) # converting validation sample size into integer\n",
    "\n",
    "\n",
    "# number of test samples \n",
    "num_test_samples= mnist_info.splits['test'].num_examples \n",
    "num_test_samples= tf.cast(num_test_samples, tf.int64)"
   ]
  },
  {
   "cell_type": "code",
   "execution_count": null,
   "id": "095004aa-283b-4f3d-b78e-ed04f02f907e",
   "metadata": {},
   "outputs": [],
   "source": []
  },
  {
   "cell_type": "markdown",
   "id": "1a6021b4-30a2-4259-9c6f-86db1a6425f5",
   "metadata": {},
   "source": [
    "# Preprocessing "
   ]
  },
  {
   "cell_type": "markdown",
   "id": "07eb631f-b213-4364-a4cd-72ae173252b5",
   "metadata": {},
   "source": [
    "## Shuffling and configuring for performance "
   ]
  },
  {
   "cell_type": "code",
   "execution_count": 7,
   "id": "7e2abc54-61df-48a7-afd7-0f0916d058ec",
   "metadata": {},
   "outputs": [],
   "source": [
    "AUTOTUNE= tf.data.AUTOTUNE\n",
    "\n",
    "mnist_train= mnist_train.cache().shuffle(1000).prefetch(buffer_size= AUTOTUNE)\n",
    "mnist_test= mnist_test.cache().prefetch(buffer_size= AUTOTUNE)"
   ]
  },
  {
   "cell_type": "markdown",
   "id": "66f86c8d-c850-49ea-b785-f38cc9ff5608",
   "metadata": {},
   "source": [
    "## Get the train, validation, test splits"
   ]
  },
  {
   "cell_type": "code",
   "execution_count": 8,
   "id": "b293faa7-774c-428b-b4f4-ff8e14bd034b",
   "metadata": {},
   "outputs": [],
   "source": [
    "test_data=  mnist_test \n",
    "\n",
    "validation_data= mnist_train.take(num_validation_samples) \n",
    "\n",
    "train_data= mnist_train.skip(num_validation_samples)"
   ]
  },
  {
   "cell_type": "markdown",
   "id": "e55b92ac-c64d-4a7b-870b-3d1d59ca724f",
   "metadata": {},
   "source": [
    "## Standardizing the data using standardizing layer "
   ]
  },
  {
   "cell_type": "code",
   "execution_count": 9,
   "id": "de6ae291-488f-4450-b570-d88f90c4c6a0",
   "metadata": {},
   "outputs": [],
   "source": [
    "normalization_layer = layers.Rescaling(1.0/255.0)"
   ]
  },
  {
   "cell_type": "code",
   "execution_count": null,
   "id": "7d002151-c550-4e98-a13a-a1a3e74a1f0c",
   "metadata": {},
   "outputs": [],
   "source": []
  },
  {
   "cell_type": "markdown",
   "id": "0fccf42a-c04b-410d-b1c9-d103b4dc3466",
   "metadata": {},
   "source": [
    "## Creating batches for training data "
   ]
  },
  {
   "cell_type": "code",
   "execution_count": 10,
   "id": "6344cb59-00dc-416f-925c-4a9bb1008ccf",
   "metadata": {},
   "outputs": [],
   "source": [
    "BATCH_SIZE= 100 "
   ]
  },
  {
   "cell_type": "code",
   "execution_count": 11,
   "id": "2b530318-1026-47dc-9d20-2e2e4cdc08fb",
   "metadata": {},
   "outputs": [],
   "source": [
    "train_data= train_data.batch(BATCH_SIZE) \n",
    "validation_data= validation_data.batch(num_validation_samples) # single batched validation data \n",
    "test_data = test_data.batch(num_test_samples)  # single batched test data "
   ]
  },
  {
   "cell_type": "code",
   "execution_count": 12,
   "id": "a5a655ed-c060-48c4-aab8-732aa4824d20",
   "metadata": {},
   "outputs": [],
   "source": [
    "validation_inputs, validation_outputs= next(iter(validation_data))"
   ]
  },
  {
   "cell_type": "markdown",
   "id": "e7fc3a79-9cd5-4dfa-9c78-ead9d96479ab",
   "metadata": {},
   "source": [
    "# The model \n",
    "\n"
   ]
  },
  {
   "cell_type": "code",
   "execution_count": 13,
   "id": "225ef1aa-05b5-42f8-a93d-260baa975498",
   "metadata": {},
   "outputs": [],
   "source": [
    "img_height= 28 \n",
    "img_width = 28 \n",
    "num_channel= 1 "
   ]
  },
  {
   "cell_type": "markdown",
   "id": "459644a9-78ba-40a6-9be6-679c167aa63b",
   "metadata": {},
   "source": [
    "## Stack the layers "
   ]
  },
  {
   "cell_type": "code",
   "execution_count": 14,
   "id": "74bfacea-2c68-4a80-9729-36fec5683ec8",
   "metadata": {},
   "outputs": [],
   "source": [
    "num_classes= len(class_names)\n",
    "\n",
    "\n",
    "model= Sequential([  \n",
    "    layers.Rescaling(1./255, input_shape=(img_height, img_width, num_channel)), \n",
    "    layers.Conv2D(16, 3, padding='same', activation='relu'), \n",
    "    layers.MaxPooling2D(), \n",
    "    layers.Conv2D(32,3 , padding='same',activation= 'relu'), \n",
    "    layers.MaxPooling2D(), \n",
    "    layers.Conv2D(64, 3, padding='same', activation= 'relu'), \n",
    "    layers.MaxPooling2D(), \n",
    "    layers.Conv2D(128, 3, padding='same', activation= 'relu'), \n",
    "    layers.MaxPooling2D(), \n",
    "    layers.Flatten(),\n",
    "    layers.Dense(128, activation= 'relu'), \n",
    "    layers.Dense(num_classes)\n",
    "\n",
    "])"
   ]
  },
  {
   "cell_type": "markdown",
   "id": "78deaf23-a494-4c5c-af64-9eef5f88e11a",
   "metadata": {},
   "source": [
    "## Compile the model "
   ]
  },
  {
   "cell_type": "code",
   "execution_count": 15,
   "id": "6e3fae6b-cce1-42f9-939b-ac50b687e445",
   "metadata": {},
   "outputs": [],
   "source": [
    "model.compile(optimizer='adam',\n",
    "              loss=tf.keras.losses.SparseCategoricalCrossentropy(from_logits=True),\n",
    "              metrics=['accuracy'])"
   ]
  },
  {
   "cell_type": "markdown",
   "id": "0b1b81f5-29fc-4169-81a1-9faa6cda3007",
   "metadata": {},
   "source": [
    "## Train the model "
   ]
  },
  {
   "cell_type": "code",
   "execution_count": 16,
   "id": "a72ef3d6-6c77-4320-91e7-10cb9ac54658",
   "metadata": {},
   "outputs": [
    {
     "name": "stdout",
     "output_type": "stream",
     "text": [
      "Epoch 1/10\n",
      "540/540 - 17s - loss: 0.2661 - accuracy: 0.9191 - val_loss: 0.0962 - val_accuracy: 0.9707 - 17s/epoch - 32ms/step\n",
      "Epoch 2/10\n",
      "540/540 - 14s - loss: 0.0674 - accuracy: 0.9791 - val_loss: 0.0538 - val_accuracy: 0.9862 - 14s/epoch - 26ms/step\n",
      "Epoch 3/10\n",
      "540/540 - 14s - loss: 0.0458 - accuracy: 0.9858 - val_loss: 0.0583 - val_accuracy: 0.9842 - 14s/epoch - 25ms/step\n",
      "Epoch 4/10\n",
      "540/540 - 13s - loss: 0.0343 - accuracy: 0.9892 - val_loss: 0.0470 - val_accuracy: 0.9887 - 13s/epoch - 24ms/step\n",
      "Epoch 5/10\n",
      "540/540 - 13s - loss: 0.0260 - accuracy: 0.9916 - val_loss: 0.0548 - val_accuracy: 0.9862 - 13s/epoch - 24ms/step\n",
      "Epoch 6/10\n",
      "540/540 - 18s - loss: 0.0256 - accuracy: 0.9913 - val_loss: 0.0390 - val_accuracy: 0.9885 - 18s/epoch - 34ms/step\n",
      "Epoch 7/10\n",
      "540/540 - 18s - loss: 0.0190 - accuracy: 0.9935 - val_loss: 0.0438 - val_accuracy: 0.9885 - 18s/epoch - 33ms/step\n",
      "Epoch 8/10\n",
      "540/540 - 20s - loss: 0.0166 - accuracy: 0.9944 - val_loss: 0.0650 - val_accuracy: 0.9845 - 20s/epoch - 37ms/step\n",
      "Epoch 9/10\n",
      "540/540 - 22s - loss: 0.0150 - accuracy: 0.9950 - val_loss: 0.0371 - val_accuracy: 0.9897 - 22s/epoch - 41ms/step\n",
      "Epoch 10/10\n",
      "540/540 - 19s - loss: 0.0139 - accuracy: 0.9951 - val_loss: 0.0566 - val_accuracy: 0.9857 - 19s/epoch - 35ms/step\n"
     ]
    }
   ],
   "source": [
    "epochs = 10 \n",
    "\n",
    "\n",
    "history= model.fit(train_data, epochs=epochs, validation_data= (validation_inputs,validation_outputs ), verbose= 2)"
   ]
  },
  {
   "cell_type": "markdown",
   "id": "2707db69-8d92-451a-8d1d-c6bf5d905ffc",
   "metadata": {},
   "source": [
    "- val_accuracy = 0.9892"
   ]
  },
  {
   "cell_type": "markdown",
   "id": "dc8cccaa-21fc-4c8e-a424-98739d3b4e07",
   "metadata": {},
   "source": [
    "## Improvements to make "
   ]
  },
  {
   "cell_type": "markdown",
   "id": "bb62a94a-c155-4b89-94c0-5c2eab566277",
   "metadata": {},
   "source": [
    "### Define Data augmentation layer "
   ]
  },
  {
   "cell_type": "code",
   "execution_count": 17,
   "id": "5d20522a-3ce5-440b-b8ef-aedd25d89667",
   "metadata": {},
   "outputs": [],
   "source": [
    "data_augmentation = keras.Sequential([  \n",
    "    layers.RandomFlip('horizontal', input_shape = (img_height, img_width, num_channel)), \n",
    "    layers.RandomRotation(0.1), \n",
    "    layers.RandomZoom(0.1)\n",
    "])"
   ]
  },
  {
   "cell_type": "markdown",
   "id": "15e89856-386b-455c-a076-c9c59c767da8",
   "metadata": {},
   "source": [
    "## remaking the model "
   ]
  },
  {
   "cell_type": "code",
   "execution_count": 18,
   "id": "e7fa65e4-745d-44dc-b476-0be3c1ed2ec3",
   "metadata": {},
   "outputs": [],
   "source": [
    "# layering \n",
    "\n",
    "model= Sequential([  \n",
    "    data_augmentation, \n",
    "    layers.Rescaling(1./255), \n",
    "    layers.Conv2D(16, 3, padding='same', activation='relu'), \n",
    "    layers.MaxPooling2D(), \n",
    "    layers.Conv2D(32,3 , padding='same',activation= 'relu'), \n",
    "    layers.MaxPooling2D(), \n",
    "    layers.Conv2D(64, 3, padding='same', activation= 'relu'), \n",
    "    layers.MaxPooling2D(), \n",
    "    layers.Dropout(0.2), \n",
    "    layers.Flatten(),\n",
    "    layers.Dense(128, activation= 'relu'), \n",
    "    layers.Dense(num_classes, name='outputs')\n",
    "\n",
    "])"
   ]
  },
  {
   "cell_type": "code",
   "execution_count": 19,
   "id": "7bfa627e-abdb-4a02-b410-14e8661a9301",
   "metadata": {},
   "outputs": [],
   "source": [
    "\n",
    "# compiling \n",
    "model.compile(optimizer='adam',\n",
    "              loss=tf.keras.losses.SparseCategoricalCrossentropy(from_logits=True),\n",
    "              metrics=['accuracy'])"
   ]
  },
  {
   "cell_type": "code",
   "execution_count": 20,
   "id": "961b25b4-30f7-431f-8902-ff300c532706",
   "metadata": {},
   "outputs": [
    {
     "name": "stdout",
     "output_type": "stream",
     "text": [
      "Epoch 1/10\n",
      "540/540 - 22s - loss: 0.6227 - accuracy: 0.7947 - val_loss: 0.2105 - val_accuracy: 0.9327 - 22s/epoch - 40ms/step\n",
      "Epoch 2/10\n",
      "540/540 - 21s - loss: 0.2472 - accuracy: 0.9210 - val_loss: 0.1175 - val_accuracy: 0.9612 - 21s/epoch - 39ms/step\n",
      "Epoch 3/10\n",
      "540/540 - 23s - loss: 0.1786 - accuracy: 0.9436 - val_loss: 0.1091 - val_accuracy: 0.9672 - 23s/epoch - 43ms/step\n",
      "Epoch 4/10\n",
      "540/540 - 26s - loss: 0.1451 - accuracy: 0.9546 - val_loss: 0.0969 - val_accuracy: 0.9698 - 26s/epoch - 47ms/step\n",
      "Epoch 5/10\n",
      "540/540 - 22s - loss: 0.1283 - accuracy: 0.9598 - val_loss: 0.0812 - val_accuracy: 0.9750 - 22s/epoch - 40ms/step\n",
      "Epoch 6/10\n",
      "540/540 - 19s - loss: 0.1151 - accuracy: 0.9637 - val_loss: 0.0756 - val_accuracy: 0.9757 - 19s/epoch - 36ms/step\n",
      "Epoch 7/10\n",
      "540/540 - 19s - loss: 0.1054 - accuracy: 0.9672 - val_loss: 0.0691 - val_accuracy: 0.9802 - 19s/epoch - 35ms/step\n",
      "Epoch 8/10\n",
      "540/540 - 20s - loss: 0.0973 - accuracy: 0.9693 - val_loss: 0.0620 - val_accuracy: 0.9807 - 20s/epoch - 38ms/step\n",
      "Epoch 9/10\n",
      "540/540 - 20s - loss: 0.0925 - accuracy: 0.9707 - val_loss: 0.0639 - val_accuracy: 0.9807 - 20s/epoch - 37ms/step\n",
      "Epoch 10/10\n",
      "540/540 - 16s - loss: 0.0881 - accuracy: 0.9723 - val_loss: 0.0516 - val_accuracy: 0.9852 - 16s/epoch - 30ms/step\n"
     ]
    }
   ],
   "source": [
    "epochs = 10 \n",
    "\n",
    "\n",
    "history= model.fit(train_data, epochs=epochs, validation_data= (validation_inputs,validation_outputs ), verbose= 2)"
   ]
  },
  {
   "cell_type": "markdown",
   "id": "17248f38-78ee-43d9-9ee5-c32a294c8e76",
   "metadata": {},
   "source": [
    "# Visualize the training results "
   ]
  },
  {
   "cell_type": "code",
   "execution_count": 21,
   "id": "42f15fbd-55e8-45ec-bf2e-b676db856719",
   "metadata": {},
   "outputs": [
    {
     "data": {
      "text/plain": [
       "<matplotlib.legend.Legend at 0x7f1061edd580>"
      ]
     },
     "execution_count": 21,
     "metadata": {},
     "output_type": "execute_result"
    },
    {
     "data": {
      "image/png": "[encoded data removed]",
      "text/plain": [
       "<Figure size 576x576 with 2 Axes>"
      ]
     },
     "metadata": {
      "needs_background": "light"
     },
     "output_type": "display_data"
    }
   ],
   "source": [
    "acc= history.history['accuracy'] \n",
    "val_acc= history.history['val_accuracy'] \n",
    "\n",
    "loss= history.history['loss']\n",
    "val_loss = history.history['val_loss']  \n",
    "\n",
    "\n",
    "epochs_range= range(epochs)  \n",
    "\n",
    "plt.figure(figsize=(8,8))   \n",
    "\n",
    "plt.subplot(1, 2, 1) \n",
    "plt.plot(epochs_range, acc, label='Training accuracy')\n",
    "plt.plot(epochs_range, val_acc, label= 'Validation accuracy') \n",
    "plt.legend() \n",
    " \n",
    "plt.subplot(1,2, 2) \n",
    "plt.plot(epochs_range, loss, label='Training loss')\n",
    "plt.plot(epochs_range, val_loss, label= 'Validation loss') \n",
    "plt.legend() \n",
    " \n"
   ]
  },
  {
   "cell_type": "markdown",
   "id": "f801673b-77e6-4366-809e-ee7139548216",
   "metadata": {},
   "source": [
    "Seems like ok "
   ]
  },
  {
   "cell_type": "markdown",
   "id": "f0963613-d019-4ff3-9c0c-1259272faf1a",
   "metadata": {},
   "source": [
    "# Testing the model with test dataset "
   ]
  },
  {
   "cell_type": "code",
   "execution_count": 22,
   "id": "bb3f2514-ed20-4277-a008-062e3c356b9c",
   "metadata": {},
   "outputs": [
    {
     "name": "stdout",
     "output_type": "stream",
     "text": [
      "1/1 [==============================] - 1s 782ms/step - loss: 0.0421 - accuracy: 0.9859\n"
     ]
    }
   ],
   "source": [
    "test_loss, test_accuracy = model.evaluate(test_data)"
   ]
  },
  {
   "cell_type": "markdown",
   "id": "2c88a1ca-2afb-451d-b9df-492260d6d240",
   "metadata": {},
   "source": [
    "# Save the model "
   ]
  },
  {
   "cell_type": "code",
   "execution_count": 23,
   "id": "568c55b4-b57e-4ce3-92b8-b87325b11200",
   "metadata": {},
   "outputs": [
    {
     "name": "stderr",
     "output_type": "stream",
     "text": [
      "WARNING:absl:Found untraced functions such as _jit_compiled_convolution_op, _jit_compiled_convolution_op, _jit_compiled_convolution_op while saving (showing 3 of 3). These functions will not be directly callable after loading.\n"
     ]
    },
    {
     "name": "stdout",
     "output_type": "stream",
     "text": [
      "INFO:tensorflow:Assets written to: saved_model/CNN_model/assets\n"
     ]
    },
    {
     "name": "stderr",
     "output_type": "stream",
     "text": [
      "INFO:tensorflow:Assets written to: saved_model/CNN_model/assets\n"
     ]
    }
   ],
   "source": [
    "!mkdir -p saved_model \n",
    "model.save('saved_model/CNN_model')"
   ]
  },
  {
   "cell_type": "code",
   "execution_count": null,
   "id": "6df9e3ae-67e0-4082-8878-020c35e851e3",
   "metadata": {},
   "outputs": [],
   "source": []
  }
 ],
 "metadata": {
  "kernelspec": {
   "display_name": "Python 3",
   "language": "python",
   "name": "python3"
  },
  "language_info": {
   "codemirror_mode": {
    "name": "ipython",
    "version": 3
   },
   "file_extension": ".py",
   "mimetype": "text/x-python",
   "name": "python",
   "nbconvert_exporter": "python",
   "pygments_lexer": "ipython3",
   "version": "3.8.10"
  }
 },
 "nbformat": 4,
 "nbformat_minor": 5
}
